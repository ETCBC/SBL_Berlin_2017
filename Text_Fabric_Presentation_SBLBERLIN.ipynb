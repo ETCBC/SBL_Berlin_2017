{
 "cells": [
  {
   "cell_type": "code",
   "execution_count": 1,
   "metadata": {
    "slideshow": {
     "slide_type": "notes"
    }
   },
   "outputs": [
    {
     "name": "stdout",
     "output_type": "stream",
     "text": [
      "Notebook last updated by Cody at 2017-08-19 22:16:09.626930\n"
     ]
    }
   ],
   "source": [
    "from datetime import datetime\n",
    "import getpass\n",
    "print('Notebook last updated by {} at {}'.format(getpass.getuser(), datetime.now().__str__()))"
   ]
  },
  {
   "cell_type": "markdown",
   "metadata": {
    "collapsed": true,
    "slideshow": {
     "slide_type": "notes"
    }
   },
   "source": [
    "# Instructions for viewing this notebook\n",
    "\n",
    "\n",
    "To view this notebook as a slideshow: install the RISE extension for jupyter notebooks https://github.com/damianavila/RISE\n",
    "\n",
    "   * `pip3 install RISE`\n",
    "   * `jupyter-nbextension install rise --py --sys-prefix`\n",
    "   * `jupyter-nbextension enable rise --py --sys-prefix`\n",
    "   * restart the notebook, next to the 'open the command palette' button a slideshow function will appear\n",
    "\n",
    "Run the six 'Notes' cells below before viewing this slideshow\n",
    "\n",
    "Go to the next slide by pressing space"
   ]
  },
  {
   "cell_type": "code",
   "execution_count": null,
   "metadata": {
    "collapsed": true,
    "slideshow": {
     "slide_type": "notes"
    }
   },
   "outputs": [],
   "source": [
    "from IPython.display import Image, HTML, display, clear_output\n",
    "import time, collections, pickle\n",
    "from tf.fabric import Fabric\n",
    "from pprint import pprint"
   ]
  },
  {
   "cell_type": "code",
   "execution_count": null,
   "metadata": {
    "slideshow": {
     "slide_type": "notes"
    }
   },
   "outputs": [],
   "source": [
    "# import custom css styles\n",
    "custom_styles = str(open('codes/style.html', 'r').read())\n",
    "\n",
    "# insert the styles into the notebook\n",
    "display(HTML(custom_styles))"
   ]
  },
  {
   "cell_type": "code",
   "execution_count": null,
   "metadata": {
    "slideshow": {
     "slide_type": "notes"
    }
   },
   "outputs": [],
   "source": [
    "ETCBC = 'hebrew/etcbc4c'\n",
    "PHONO = 'hebrew/phono'\n",
    "TF = Fabric(modules=[ETCBC, PHONO], silent=False)"
   ]
  },
  {
   "cell_type": "code",
   "execution_count": null,
   "metadata": {
    "scrolled": true,
    "slideshow": {
     "slide_type": "notes"
    }
   },
   "outputs": [],
   "source": [
    "# Load ETCBC features\n",
    "\n",
    "api = TF.load('''\n",
    "    otype\n",
    "    lex g_word_utf8 trailer trailer_utf8\n",
    "    freq_lex gloss qere qere_trailer language\n",
    "    book chapter verse label number\n",
    "    nu ps gn vs vt prs ls lex g_cons\n",
    "    function txt domain rela code gloss\n",
    "    sp kind typ pdp mother g_cons_utf8 tab\n",
    "''')\n",
    "\n",
    "api.makeAvailableIn(globals())"
   ]
  },
  {
   "cell_type": "code",
   "execution_count": null,
   "metadata": {
    "collapsed": true,
    "slideshow": {
     "slide_type": "notes"
    }
   },
   "outputs": [],
   "source": [
    "# import custom presentation modules\n",
    "# must go after TF load so as to bring in TF methods\n",
    "from codes.present import present, animate_text, display_slots, obj_boundaries, display_objects, display_span"
   ]
  },
  {
   "cell_type": "code",
   "execution_count": null,
   "metadata": {
    "scrolled": true,
    "slideshow": {
     "slide_type": "notes"
    }
   },
   "outputs": [],
   "source": [
    "def open_tf_file_slots(file, extension='tf_files/'):\n",
    "    slots_file = open(extension+file).read().split('\\n')\n",
    "    print('\\n'.join(slots_file[5:12])) \n",
    "    \n",
    "def node_numbers_and_their_objects(file, extension='tf_files/'):\n",
    "    slots_file = open(extension+file).read().split('\\n')\n",
    "    print('\\n'.join(slots_file[5:18]))\n",
    "    \n",
    "# Counting objects\n",
    "def show_database_object_types():\n",
    "    indent(reset=True)\n",
    "    info('Counting objects in database ...')\n",
    "    for otype in F.otype.all:\n",
    "        counter = 0\n",
    "        indent(level=1, reset=True)\n",
    "        for node in F.otype.s(otype): \n",
    "            counter += 1\n",
    "        info('{:>7} {}s'.format(counter, otype))\n",
    "    indent(level=0)\n",
    "    info('Done')\n",
    "    \n",
    "def demonstrate_features_phrase_function(file, extension='tf_files/'):\n",
    "    slots_file = open(extension+file).read().split('\\n') # clean this up\n",
    "    print('\\n'.join(slots_file[5:14])) # clean this up\n",
    "    \n",
    "def english_book_names():\n",
    "    node_to_english = ''\n",
    "    for b in F.otype.s('book'):\n",
    "        node_to_english += '{} = {}\\n'.format(b, T.bookName(b, lang='en'))\n",
    "    print(node_to_english)\n",
    "    \n",
    "def show_text_formats():\n",
    "    text = collections.defaultdict(list)\n",
    "    indent(reset=True)\n",
    "    info('writing plain text of whole Bible in all formats')\n",
    "    for v in F.otype.s('verse'):\n",
    "        words = L.d(v, 'word')\n",
    "        for fmt in sorted(T.formats):\n",
    "            text[fmt].append(T.text(words, fmt=fmt))\n",
    "    info('done {} formats'.format(len(text)))\n",
    "    for fmt in sorted(text):\n",
    "        print('{}\\n{}\\n'.format(fmt, '\\n'.join(text[fmt][0:1])))\n",
    "        \n",
    "        \n",
    "def show_time_span():\n",
    "    \n",
    "    # open time span data for selected span\n",
    "    with open('data/l_olam_wayyiqtol.pickle', 'rb') as infile:\n",
    "        selected_span = pickle.load(infile)\n",
    "\n",
    "    html_code = ''\n",
    "        \n",
    "    for div in display_span(selected_span):\n",
    "        html_code += div\n",
    "        \n",
    "    display(HTML('<tabl style=\"text-align: right\"><td><tr>{}</tr></td></table>'.format(html_code)))\n",
    "\n",
    "partOfSpeech = collections.Counter()\n",
    "freqLex = collections.Counter()\n",
    "\n",
    "def count_partofspeech_lexemes():\n",
    "    indent(level=0, reset=True)\n",
    "    info('Starting tasks')\n",
    "    indent(level=1, reset=True)\n",
    "    info('Counting the words by part-of-speech ...')\n",
    "    for w in F.otype.s('word'):\n",
    "        partOfSpeech[F.sp.v(w)] += 1\n",
    "    info('Done: {} categories'.format(len(partOfSpeech)))\n",
    "    indent(level=2)\n",
    "    info('\\n'.join('{:<7}: {:>6}x'.format(*x) for x in sorted(\n",
    "        partOfSpeech.items(),\n",
    "        key=lambda x: (-x[1], x[0])\n",
    "    )), tm=False)\n",
    "    indent(level=1, reset=True)\n",
    "    info('Listing the top 10 frequent words ...')\n",
    "    for w in F.otype.s('word'):\n",
    "        freqLex[F.lex.v(w)] += 1\n",
    "    info('Done: {} lexemes'.format(len(freqLex)))\n",
    "    indent(level=2)\n",
    "    info('\\n'.join('{:<7}: {:>6}x'.format(*x) for x in sorted(\n",
    "        freqLex.items(),\n",
    "        key=lambda x: (-x[1], x[0])\n",
    "    )[0:10]), tm=False)\n",
    "    indent(level=0)\n",
    "    info('All tasks completed')\n",
    "    \n",
    "    \n",
    "begin=\\\n",
    "'''\n",
    "<br><br><br><br><br><br>\n",
    "\n",
    "<div style=\"text-align: center\">\n",
    "    <span style=\"font-size: 20px; color: #bec2c6\">[begin slides]</span>\n",
    "<div>\n",
    "\n",
    "<br><br><br><br><br><br>\n",
    "'''\n",
    "\n",
    "display(HTML(begin))"
   ]
  },
  {
   "cell_type": "markdown",
   "metadata": {
    "slideshow": {
     "slide_type": "slide"
    }
   },
   "source": [
    "<div class=\"title_slide\">\n",
    "\n",
    "    <h1 class=\"custom\">ETCBC's Text-Fabric</h1>\n",
    "    <h2 class=\"custom\" style=\"margin-top:0px\">What, How, and Why</h2>\n",
    "    <br>\n",
    "    <table>\n",
    "        <tr>\n",
    "        <td>\n",
    "            <img src=\"images/tf-small.png\" style=\"width:250px; height:150px;\">\n",
    "        </td>\n",
    "        <td>\n",
    "        <img src=\"images/etcbc.png\" style=\"width:315px; height:150;\">\n",
    "        </td>\n",
    "        </tr>\n",
    "    </table>\n",
    "    \n",
    "    <br>\n",
    "    **Christiaan Erwich & Cody Kingham**\n",
    "</div>"
   ]
  },
  {
   "cell_type": "markdown",
   "metadata": {
    "slideshow": {
     "slide_type": "slide"
    }
   },
   "source": [
    "<div class=\"slide_with_text\">\n",
    "\n",
    "    <h1 class=\"slide_header_custom\">Introduction\n",
    "    <table>\n",
    "        <tr>\n",
    "        <td>\n",
    "            <img src=\"images/tf-small.png\" width=\"120\" height=\"70\">\n",
    "        </td>\n",
    "        </tr>\n",
    "    </table>\n",
    "    </h1>\n",
    "\n",
    "    <hr width=\"50%\">\n",
    "           \n",
    "    <!-- unordered list with no bullets, add numbers manually -->\n",
    "    <ul class=\"blank\" style=\"text-align: left\">\n",
    "    \n",
    "    <br>\n",
    "    \n",
    "    <!-- \"li\" == list item -->\n",
    "    <li style>1.&nbsp;&nbsp;&nbsp;&nbsp;What is Text-Fabric?</li>\n",
    "        \n",
    "        <br>\n",
    "        \n",
    "        <!-- embedded unordered list for sub levels --> \n",
    "        <ul class=\"blank\">\n",
    "            <li>1.1.&nbsp;&nbsp;&nbsp;&nbsp;predecessor: LAF</li>\n",
    "            <br>\n",
    "            <li>1.2.&nbsp;&nbsp;&nbsp;&nbsp;Text-Fabric</li>\n",
    "            <br>\n",
    "            <li>1.3.&nbsp;&nbsp;&nbsp;&nbsp;the Text-Fabric data model</li>\n",
    "        </ul>\n",
    "    </ul>\n",
    "       \n",
    "</div> "
   ]
  },
  {
   "cell_type": "markdown",
   "metadata": {
    "slideshow": {
     "slide_type": "subslide"
    }
   },
   "source": [
    "<div class=\"slide_with_text\">\n",
    "    \n",
    "    <h1 class=\"slide_header_custom\">Introduction\n",
    "    <table>\n",
    "        <tr>\n",
    "        <td>\n",
    "            <img src=\"images/tf-small.png\" width=\"120\" height=\"70\">\n",
    "        </td>\n",
    "        </tr>\n",
    "    </table>\n",
    "    </h1>\n",
    "    \n",
    "    <hr width=\"50%\">\n",
    "    \n",
    "    <!-- unordered list with no bullets -->\n",
    "    <ul class=\"blank\">\n",
    "    \n",
    "    <br>\n",
    "    \n",
    "    <!-- \"li\" == list item -->\n",
    "    <li>2.&nbsp;&nbsp;&nbsp;&nbsp;Using Text-Fabric</li>\n",
    "        \n",
    "        <br>\n",
    "        \n",
    "        <ul class=\"blank\">\n",
    "            <li>2.1.&nbsp;&nbsp;&nbsp;&nbsp;classes and features</li>\n",
    "            \n",
    "            <br>\n",
    "            \n",
    "            <li>2.2.&nbsp;&nbsp;&nbsp;&nbsp;participant patterns (Christiaan)</li>\n",
    "            \n",
    "            <br>\n",
    "            \n",
    "            <li>2.3.&nbsp;&nbsp;&nbsp;&nbsp;time spans (Cody)</li>\n",
    "       </ul>\n",
    "    \n",
    "    </ul>\n",
    "    \n",
    "</div>"
   ]
  },
  {
   "cell_type": "markdown",
   "metadata": {
    "slideshow": {
     "slide_type": "subslide"
    }
   },
   "source": [
    "<div class=\"slide_with_text\">\n",
    "    \n",
    "    <h1 class=\"slide_header_custom\">Introduction\n",
    "    <table>\n",
    "        <tr>\n",
    "        <td>\n",
    "            <img src=\"images/tf-small.png\" width=\"120\" height=\"70\">\n",
    "        </td>\n",
    "        </tr>\n",
    "    </table>\n",
    "    </h1>\n",
    "    \n",
    "    <hr width=\"50%\">\n",
    "    \n",
    "    <br>\n",
    "    \n",
    "    <!-- unordered list with no bullets -->\n",
    "    <ul class=\"blank\">\n",
    "    \n",
    "    <!-- \"li\" == list item -->\n",
    "    <li>3.&nbsp;&nbsp;&nbsp;&nbsp;The Future of Text-Fabric </li>\n",
    "        \n",
    "    <br>    \n",
    "    \n",
    "    <!-- \"li\" == list item -->\n",
    "    <li>4.&nbsp;&nbsp;&nbsp;&nbsp;Questions and Discussion </li>\n",
    "    \n",
    "    </ul>\n",
    "    \n",
    "</div>"
   ]
  },
  {
   "cell_type": "markdown",
   "metadata": {
    "slideshow": {
     "slide_type": "notes"
    }
   },
   "source": [
    "NOTES FOR PRESENTING\n",
    "\n",
    "\n",
    "1.2 Basic information\n",
    "* Columnar data processed with:\n",
    "   * Python 3.x package\n",
    "   * Easily processable with other languages\n",
    "\n",
    "1.3 Data model\n",
    "* Directed graph, slots, nodes&edges, otypes\n",
    "* Contrast with Other Data Models\n",
    "* Demonstrate otypes, etc. in format of general coutings (e.g. Dirk's tutorial)\n",
    "\n",
    "2 How to do Text-Fabric? \n",
    "* Classes and Features\n",
    "* Participant patterns (Christiaan)\n",
    "* Time spans (Cody)\n",
    "\n",
    "3 The future of Text-Fabric"
   ]
  },
  {
   "cell_type": "markdown",
   "metadata": {
    "slideshow": {
     "slide_type": "slide"
    }
   },
   "source": [
    "<div class=\"slide_with_text\">\n",
    "\n",
    "    <h1 class=\"custom\">1.1&nbsp;&nbsp;&nbsp;&nbsp;Predecessor</h1>\n",
    "    \n",
    "</div>"
   ]
  },
  {
   "cell_type": "markdown",
   "metadata": {
    "slideshow": {
     "slide_type": "fragment"
    }
   },
   "source": [
    "<div class=\"slide_with_text\">\n",
    "<span style=\"font-size: 200%\">•</span>\n",
    "<img class=\"custom_left\" src=\"images/laf_logo.png\" height=\"101\" width=\"101\">\n",
    "<span style=\"font-size: 120%; font-weight: bold\">LAF-Fabric, by Dirk Roorda (DANS)</span>\n",
    "</div>"
   ]
  },
  {
   "cell_type": "markdown",
   "metadata": {
    "slideshow": {
     "slide_type": "slide"
    }
   },
   "source": [
    "<div class=\"slide_with_text\">\n",
    "\n",
    "    <h1 class=\"slide_header_custom\">LAF-Fabric (xml)</h1>\n",
    "    <img src=\"images/laf-fabric-pro-cons.png\">\n",
    "    \n",
    "</div>"
   ]
  },
  {
   "cell_type": "markdown",
   "metadata": {
    "slideshow": {
     "slide_type": "subslide"
    }
   },
   "source": [
    "<div class=\"slide_with_text\">\n",
    "        \n",
    "    <img class=\"custom_left\" src=\"images/laf_logo.png\" height=\"201\" width=\"201\">\n",
    "\n",
    "    <h2 class=\"custom\">LAF-Fabric</h2>\n",
    "    <br>\n",
    "    \n",
    "    <!--Unordered List-->\n",
    "    <ul class=\"custom\">\n",
    "    \n",
    "        <!-- \"li\" == list item -->\n",
    "        <li>&nbsp;&nbsp;&nbsp;&nbsp;LAF convention of XML is bloated, hard to customize (<span>&#8722;</span>)</li>\n",
    "        \n",
    "        <br>\n",
    "        \n",
    "        <li>&nbsp;&nbsp;&nbsp;&nbsp;Graph representation in nodes and edges (<span>&#43;</span>)</li>\n",
    "        \n",
    "        <br>\n",
    "        \n",
    "        \n",
    "        <li>&nbsp;&nbsp;&nbsp;&nbsp;LAF-Fabric in Python 3.x (<span>&#43;</span>)</li>\n",
    "        \n",
    "        <br>\n",
    "        \n",
    "        \n",
    "        <li>&nbsp;&nbsp;&nbsp;&nbsp;Separation of concerns (<span>&#43;</span>)</li>\n",
    "        \n",
    "        <br>\n",
    "        \n",
    "        \n",
    "        <li>&nbsp;&nbsp;&nbsp;&nbsp;Requires a lot of memory—8gb! (<span>&#8764;</span>)</li>\n",
    "        \n",
    "    </ul>\n",
    "</div>\n"
   ]
  },
  {
   "cell_type": "markdown",
   "metadata": {
    "slideshow": {
     "slide_type": "slide"
    }
   },
   "source": [
    "<div class=\"slide_with_text\">\n",
    "\n",
    "    <h1 class=\"custom\">1.2&nbsp;&nbsp;&nbsp;&nbsp;Text-Fabric</h1>\n",
    "    \n",
    "</div>"
   ]
  },
  {
   "cell_type": "markdown",
   "metadata": {
    "slideshow": {
     "slide_type": "fragment"
    }
   },
   "source": [
    "<div class=\"slide_with_text\">\n",
    "<span style=\"font-size: 200%\">•</span>\n",
    "<img class=\"custom_left\" src=\"images/tf-small.png\" height=\"101\" width=\"101\">\n",
    "<span style=\"font-size: 120%; font-weight: bold\">by Dirk Roorda (DANS)</span>\n",
    "</div>"
   ]
  },
  {
   "cell_type": "markdown",
   "metadata": {
    "slideshow": {
     "slide_type": "slide"
    }
   },
   "source": [
    "<div class=\"slide_with_text\">\n",
    "\n",
    "<img class=\"custom_left\" src=\"images/tf-small.png\" height=\"221\" width=\"221\">\n",
    "\n",
    "<h2 class=\"custom\">Text-Fabric</h2>\n",
    "\n",
    "<br>\n",
    "\n",
    "    <!--Unordered List-->\n",
    "    <ul class=\"custom\">\n",
    "    \n",
    "        <!-- \"li\" == list item -->\n",
    "        <li>&nbsp;&nbsp;&nbsp;&nbsp;compact (<span>&#43;</span>)</li>\n",
    "        <br>\n",
    "        <li>&nbsp;&nbsp;&nbsp;&nbsp;transparent (<span>&#8722;</span>)</li>\n",
    "        <br>\n",
    "        <li>&nbsp;&nbsp;&nbsp;&nbsp;plain-text columns (<span>&#43;</span>)</li>\n",
    "        <br>\n",
    "        <li>&nbsp;&nbsp;&nbsp;&nbsp;separation of concerns (<span>&#43;</span>)</li>\n",
    "        <br>\n",
    "        <li>&nbsp;&nbsp;&nbsp;&nbsp;easy to add features to nodes (<span>&#43;</span>)</li>\n",
    "    </ul>\n",
    "</div>"
   ]
  },
  {
   "cell_type": "markdown",
   "metadata": {
    "slideshow": {
     "slide_type": "slide"
    }
   },
   "source": [
    "<div class=\"slide_with_text\">\n",
    "\n",
    "    <h2 class=\"custom\">1.3&nbsp;&nbsp;&nbsp;&nbsp;Text-Fabric Data Model</h2>\n",
    "    \n",
    "    <br>\n",
    "    \n",
    "    <ul class=\"custom\">\n",
    "        \n",
    "        <li>&nbsp;&nbsp;&nbsp;&nbsp;Makeup of a Text</li>\n",
    "        \n",
    "        <ul class=\"custom\">\n",
    "            <li>&nbsp;&nbsp;&nbsp;&nbsp;words</li>\n",
    "            <li>&nbsp;&nbsp;&nbsp;&nbsp;grammatical units made up of groups of words (e.g. phrases, clauses, sentences)</li><br>\n",
    "        </ul>\n",
    "                \n",
    "        <li>&nbsp;&nbsp;&nbsp;&nbsp;Makeup of Text-Fabric</li>\n",
    "        \n",
    "        <ul class=\"custom\">\n",
    "            <li>&nbsp;&nbsp;&nbsp;&nbsp;words = \"slots\" (positions)</li>\n",
    "            <li>&nbsp;&nbsp;&nbsp;&nbsp;grammatical units = \"objects\" (ranges of slots)</li>\n",
    "        </ul>\n",
    "        \n",
    "\n",
    "    </ul>\n",
    "</div>"
   ]
  },
  {
   "cell_type": "code",
   "execution_count": null,
   "metadata": {
    "scrolled": false,
    "slideshow": {
     "slide_type": "slide"
    }
   },
   "outputs": [],
   "source": [
    "slots = display_slots(('Genesis',1,1))"
   ]
  },
  {
   "cell_type": "code",
   "execution_count": null,
   "metadata": {
    "scrolled": false,
    "slideshow": {
     "slide_type": "slide"
    }
   },
   "outputs": [],
   "source": [
    "phrase_slots = display_objects(('Genesis', 1, 1), 'phrase', words=slots[1], progress=slots[0])"
   ]
  },
  {
   "cell_type": "markdown",
   "metadata": {
    "slideshow": {
     "slide_type": "slide"
    }
   },
   "source": [
    "<h2 class=\"custom\">similarly, clauses....</h2>"
   ]
  },
  {
   "cell_type": "code",
   "execution_count": null,
   "metadata": {
    "scrolled": true,
    "slideshow": {
     "slide_type": "-"
    }
   },
   "outputs": [],
   "source": [
    "clause_slots = display_objects(('Genesis', 1, 1), 'clause', words=slots[1], progress=slots[0])\\"
   ]
  },
  {
   "cell_type": "markdown",
   "metadata": {
    "slideshow": {
     "slide_type": "notes"
    }
   },
   "source": [
    "<h2 class=\"custom\">or sentences...</h2>"
   ]
  },
  {
   "cell_type": "code",
   "execution_count": null,
   "metadata": {
    "collapsed": true,
    "scrolled": false,
    "slideshow": {
     "slide_type": "notes"
    }
   },
   "outputs": [],
   "source": [
    "sentence_slots = display_objects(('Genesis', 1, 1), 'sentence', words=slots[1], progress=slots[0])"
   ]
  },
  {
   "cell_type": "markdown",
   "metadata": {
    "slideshow": {
     "slide_type": "slide"
    }
   },
   "source": [
    "<div class=\"slide_with_text\">\n",
    "\n",
    "<h2 class=\"custom\">TF Slot Ranges Stored in oslots.tf File</h2>\n",
    "\n",
    "    <br>\n",
    "\n",
    "    <!--Unordered List-->\n",
    "    <ul class=\"custom\" style=\"text-align: left\">\n",
    "    \n",
    "        <!-- \"li\" == list item -->\n",
    "        <li>&nbsp;&nbsp;&nbsp;&nbsp;\"object slots\"</li>\n",
    "             \n",
    "        <br>\n",
    "        \n",
    "        <li>&nbsp;&nbsp;&nbsp;&nbsp;First node number given, the rest are implied through the line number.</li>\n",
    "        \n",
    "        <br>\n",
    "        \n",
    "        <li>&nbsp;&nbsp;&nbsp;&nbsp;Each line (i.e. node) has a range of slots.</li>    \n",
    "   </ul>\n",
    "\n",
    "<br>\n",
    "\n",
    "<strong>\n",
    "For example, the top of the oslots file (Genesis 1:1f):\n",
    "</strong>\n",
    "    \n",
    "</div>"
   ]
  },
  {
   "cell_type": "code",
   "execution_count": null,
   "metadata": {
    "slideshow": {
     "slide_type": "-"
    }
   },
   "outputs": [],
   "source": [
    "open_tf_file_slots('oslots.tf')"
   ]
  },
  {
   "cell_type": "markdown",
   "metadata": {
    "slideshow": {
     "slide_type": "slide"
    }
   },
   "source": [
    "<div class=\"slide_with_text\">\n",
    "\n",
    "<h2 class=\"custom\">How does TF Recognize a Node Number?</h2>\n",
    "\n",
    "    <br>\n",
    "    \n",
    "    <!--Unordered List-->\n",
    "    <ul class=\"custom\" style=\"text-align: left\">\n",
    "    \n",
    "        <!-- \"li\" == list item -->\n",
    "        <li><strong>otype.tf</strong> stores node ranges with their corresponding object type.</li>\n",
    "\n",
    "        \n",
    "    </ul>\n",
    "</div>"
   ]
  },
  {
   "cell_type": "code",
   "execution_count": null,
   "metadata": {
    "slideshow": {
     "slide_type": "-"
    }
   },
   "outputs": [],
   "source": [
    "node_numbers_and_their_objects('otype.tf') "
   ]
  },
  {
   "cell_type": "markdown",
   "metadata": {
    "slideshow": {
     "slide_type": "slide"
    }
   },
   "source": [
    "<div class=\"slide_title_main\">\n",
    "\n",
    "<h2 class=\"custom\">Node Features are Stored in Files</h2>\n",
    "\n",
    "    <br>\n",
    "\n",
    "    <!--Unordered List-->\n",
    "    <ul class=\"custom\" style=\"text-align: left\">\n",
    "    \n",
    "        <!-- \"li\" == list item -->\n",
    "        <li>First node number supplied, the rest are implied through the line number.</li>\n",
    "        \n",
    "        <br>\n",
    "        \n",
    "        <li>Feature string is given for each line/node.</li>\n",
    "    </ul>\n",
    "</div>"
   ]
  },
  {
   "cell_type": "code",
   "execution_count": null,
   "metadata": {
    "collapsed": true,
    "slideshow": {
     "slide_type": "-"
    }
   },
   "outputs": [],
   "source": [
    "demonstrate_features_phrase_function('function.tf')"
   ]
  },
  {
   "cell_type": "markdown",
   "metadata": {
    "slideshow": {
     "slide_type": "subslide"
    }
   },
   "source": [
    "<div class=\"slide_with_text\">\n",
    "\n",
    "    <h2 class=\"custom\">&nbsp;&nbsp;&nbsp;&nbsp;Graph Structure</h2>\n",
    "    \n",
    "    <br>\n",
    "    \n",
    "    <ul class=\"custom\">\n",
    "               \n",
    "        <ul class=\"custom\">\n",
    "            <li>&nbsp;&nbsp;&nbsp;&nbsp;nodes - slots and objects</li><br> \n",
    "            <li>&nbsp;&nbsp;&nbsp;&nbsp;edges - relationships between slots/objects</li>\n",
    "        </ul>\n",
    "\n",
    "    </ul>\n",
    "</div>"
   ]
  },
  {
   "cell_type": "markdown",
   "metadata": {
    "slideshow": {
     "slide_type": "slide"
    }
   },
   "source": [
    "<div class=\"slide_with_text\">\n",
    "\n",
    "<h1 class=\"custom\">2.&nbsp;&nbsp;&nbsp;&nbsp;Using Text-Fabric</h1>\n",
    "\n",
    "    <br>\n",
    "\n",
    "    <!--ordered List-->\n",
    "    <ul class=\"blank\" style=\"text-align: left\">\n",
    "    \n",
    "        <!-- \"li\" == list item -->\n",
    "        <li>2.1.&nbsp;&nbsp;&nbsp;&nbsp;classes and features</li>\n",
    "        \n",
    "        <br>\n",
    "        \n",
    "        <li>2.2.&nbsp;&nbsp;&nbsp;&nbsp;participant patterns in the Psalms (Christiaan)</li>\n",
    "        \n",
    "        <br>\n",
    "        \n",
    "        <li>2.3.&nbsp;&nbsp;&nbsp;&nbsp;tense and time spans (Cody)</li>\n",
    "        \n",
    "    </ul>\n",
    "</div>"
   ]
  },
  {
   "cell_type": "markdown",
   "metadata": {
    "slideshow": {
     "slide_type": "slide"
    }
   },
   "source": [
    "<div class=\"slide_with_text\">\n",
    "\n",
    "<h2 class=\"custom\">2.1.&nbsp;&nbsp;&nbsp;&nbsp;Classes and Features</h2>\n",
    "\n",
    "</div>"
   ]
  },
  {
   "cell_type": "markdown",
   "metadata": {
    "slideshow": {
     "slide_type": "notes"
    }
   },
   "source": [
    "<div>\n",
    "    <br>\n",
    "\n",
    "    <!--unordered List-->\n",
    "    <ul class=\"custom\" style=\"text-align: left\">\n",
    "    \n",
    "        <!-- \"li\" == list item -->\n",
    "        <li>&nbsp;&nbsp;&nbsp;&nbsp;accessing object features</li>\n",
    "        \n",
    "        <br>\n",
    "        \n",
    "        <li>&nbsp;&nbsp;&nbsp;&nbsp;clause type </li>\n",
    "        \n",
    "        <br>\n",
    "        \n",
    "        <li>&nbsp;&nbsp;&nbsp;&nbsp;booknames in different languages</li>\n",
    "        \n",
    "        <br>\n",
    "        \n",
    "        <li>&nbsp;&nbsp;&nbsp;&nbsp;text formats</li>\n",
    "        \n",
    "        <br>\n",
    "        \n",
    "         <li>&nbsp;&nbsp;&nbsp;&nbsp;complexer stuff: counting lexemes and part of speech </li>\n",
    "    </ul>\n",
    "</div>"
   ]
  },
  {
   "cell_type": "markdown",
   "metadata": {
    "slideshow": {
     "slide_type": "slide"
    }
   },
   "source": [
    "<div class=\"slide_with_text\">\n",
    "\n",
    "<h2 class=\"custom\">Accessing Object Features</h2>\n",
    "\n",
    "<br>\n",
    "\n",
    "<span style=\"font-size: 120%\"><code>F.feature.v(node_number)</code></span>\n",
    "\n",
    "</div>"
   ]
  },
  {
   "cell_type": "code",
   "execution_count": null,
   "metadata": {
    "collapsed": true,
    "slideshow": {
     "slide_type": "fragment"
    }
   },
   "outputs": [],
   "source": [
    "# with word node number\n",
    "\n",
    "F.g_cons_utf8.v(313893)"
   ]
  },
  {
   "cell_type": "code",
   "execution_count": null,
   "metadata": {
    "collapsed": true,
    "slideshow": {
     "slide_type": "fragment"
    }
   },
   "outputs": [],
   "source": [
    "# with phrase node number\n",
    "\n",
    "F.function.v(791236) "
   ]
  },
  {
   "cell_type": "code",
   "execution_count": null,
   "metadata": {
    "collapsed": true,
    "slideshow": {
     "slide_type": "fragment"
    }
   },
   "outputs": [],
   "source": [
    "# with clause node number\n",
    "\n",
    "F.typ.v(579892) "
   ]
  },
  {
   "cell_type": "markdown",
   "metadata": {
    "slideshow": {
     "slide_type": "slide"
    }
   },
   "source": [
    "<div class=\"slide_with_text\">\n",
    "\n",
    "<span style=\"font-size: 120%\"><code>T.bookName.v(node_number)</code></span>\n",
    "\n",
    "</div>"
   ]
  },
  {
   "cell_type": "code",
   "execution_count": null,
   "metadata": {
    "scrolled": true,
    "slideshow": {
     "slide_type": "-"
    }
   },
   "outputs": [],
   "source": [
    "english_book_names()"
   ]
  },
  {
   "cell_type": "code",
   "execution_count": null,
   "metadata": {
    "scrolled": true,
    "slideshow": {
     "slide_type": "subslide"
    }
   },
   "outputs": [],
   "source": [
    "show_text_formats()"
   ]
  },
  {
   "cell_type": "code",
   "execution_count": null,
   "metadata": {
    "scrolled": true,
    "slideshow": {
     "slide_type": "subslide"
    }
   },
   "outputs": [],
   "source": [
    "count_partofspeech_lexemes()"
   ]
  },
  {
   "cell_type": "markdown",
   "metadata": {
    "slideshow": {
     "slide_type": "slide"
    }
   },
   "source": [
    "<h1 class=\"custom\">2.2 Patterns of Participant Shifts</h1>\n",
    "\n"
   ]
  },
  {
   "cell_type": "markdown",
   "metadata": {
    "slideshow": {
     "slide_type": "slide"
    }
   },
   "source": [
    "<img src=\"images/psalm75-colors.png\">"
   ]
  },
  {
   "cell_type": "markdown",
   "metadata": {
    "slideshow": {
     "slide_type": "slide"
    }
   },
   "source": [
    "<img src=\"images/asaf.png\" height=\"\" width=\"\">"
   ]
  },
  {
   "cell_type": "markdown",
   "metadata": {
    "slideshow": {
     "slide_type": "subslide"
    }
   },
   "source": [
    "<div class=\"slide_with_text\">\n",
    "\n",
    "<h2 class=\"custom\">Let's zoom in</h2>\n",
    "\n",
    "<br>\n",
    "\n",
    "</div>\n",
    "\n",
    "<img src=\"images/asaf-zoom.png\" height=\"\" width=\"\">"
   ]
  },
  {
   "cell_type": "markdown",
   "metadata": {
    "slideshow": {
     "slide_type": "slide"
    }
   },
   "source": [
    "<div class=\"slide_with_text\">\n",
    "\n",
    "    <h1 class=\"slide_header_custom\">Promising parallel patterns in BH poetry in <strong>whole verses</strong></h1>\n",
    "    <img src=\"images/sbl-table-patterns-2.png\">\n",
    "    \n",
    "</div>"
   ]
  },
  {
   "cell_type": "markdown",
   "metadata": {
    "collapsed": true,
    "slideshow": {
     "slide_type": "slide"
    }
   },
   "source": [
    "<div class=\"slide_with_text\">\n",
    "\n",
    "<h2 class=\"custom\">2.3.&nbsp;&nbsp;&nbsp;&nbsp;Tense and Time Spans</h2>\n",
    "\n",
    "    <br>\n",
    "\n",
    "    <!--unordered List-->\n",
    "    <ul class=\"custom\" style=\"text-align: left\">\n",
    "    \n",
    "        <!-- \"li\" == list item -->\n",
    "        <li>&nbsp;&nbsp;&nbsp;&nbsp;question of tense/aspect in Biblical Hebrew</li>\n",
    "        \n",
    "        <ul class=\"custom\">\n",
    "                <li>&nbsp;&nbsp;&nbsp;&nbsp;computational, textlinguistic approach with ETCBC and TF</li>\n",
    "                <li>&nbsp;&nbsp;&nbsp;&nbsp;a question of semantics</li>\n",
    "                <li>&nbsp;&nbsp;&nbsp;&nbsp;a question of discourse structure</li>\n",
    "        </ul>\n",
    "        \n",
    "        <br>\n",
    "        \n",
    "        <li>&nbsp;&nbsp;&nbsp;&nbsp;verb tense is approached as a question of <strong>semantic co-occurrence</strong></li>\n",
    "            <ul class=\"custom\">\n",
    "                <li>&nbsp;&nbsp;&nbsp;&nbsp;e.g. \"father\" might tend to occur alongside \"son\"</li>\n",
    "                <li>&nbsp;&nbsp;&nbsp;&nbsp;also time markers alongside certain verbs?</li><br> \n",
    "            </ul>\n",
    "            \n",
    "            \n",
    "        <li>&nbsp;&nbsp;&nbsp;&nbsp;verb tense is approached as a question of <strong>discourse context</strong></li>\n",
    "\n",
    "            <ul class=\"custom\">\n",
    "                <li>&nbsp;&nbsp;&nbsp;&nbsp;Do mother clauses pass on the semantic content of a verb tense to their daughters?</li><br> \n",
    "            </ul>\n",
    "\n",
    "    </ul>\n",
    "</div>\n",
    "\n"
   ]
  },
  {
   "cell_type": "markdown",
   "metadata": {
    "slideshow": {
     "slide_type": "slide"
    }
   },
   "source": [
    "<img src=\"images/yiqtol_vs_wayyiqtol.png\" height=\"\" width=\"\">"
   ]
  },
  {
   "cell_type": "markdown",
   "metadata": {
    "slideshow": {
     "slide_type": "slide"
    }
   },
   "source": [
    "<img src=\"images/until_forever.png\" height=\"\" width=\"\">"
   ]
  },
  {
   "cell_type": "code",
   "execution_count": null,
   "metadata": {
    "collapsed": true,
    "slideshow": {
     "slide_type": "slide"
    }
   },
   "outputs": [],
   "source": [
    "show_time_span()"
   ]
  },
  {
   "cell_type": "markdown",
   "metadata": {
    "slideshow": {
     "slide_type": "slide"
    }
   },
   "source": [
    "<div class=\"slide_with_text\">\n",
    "\n",
    "<h1 class=\"custom\">3.&nbsp;&nbsp;&nbsp;&nbsp;The Future of Text-Fabric</h1>\n",
    "\n",
    "    <br>\n",
    "\n",
    "    <!--unordered List-->\n",
    "    <ul class=\"custom\" style=\"text-align: left\">\n",
    "    \n",
    "        <!-- \"li\" == list item -->\n",
    "        \n",
    "        <li><strong>community of users</strong></li>\n",
    "    </ul>\n",
    "</div>"
   ]
  },
  {
   "cell_type": "markdown",
   "metadata": {
    "slideshow": {
     "slide_type": "fragment"
    }
   },
   "source": [
    "<div class=\"slide_with_text\">\n",
    " \n",
    "     <!--unordered List-->\n",
    "    <ul class=\"custom\" style=\"text-align: left\">\n",
    "    \n",
    "        <span style=\"font-size: 200%\">•</span>\n",
    "        <img class=\"custom_left\" src=\"images/qBible.png\" height=\"101\" width=\"101\">\n",
    "        <span style=\"font-weight: bold\">qBible: James Cuénod</span>\n",
    "\n",
    "    </ul>\n",
    "</div>"
   ]
  },
  {
   "cell_type": "markdown",
   "metadata": {
    "slideshow": {
     "slide_type": "fragment"
    }
   },
   "source": [
    "<div class=\"slide_with_text\">\n",
    " \n",
    "     <!--unordered List-->\n",
    "    <ul class=\"custom\" style=\"text-align: left\">\n",
    "    \n",
    "        <span style=\"font-size: 200%\">•</span>\n",
    "        <img class=\"custom_left\" src=\"images/etcbc_remix.png\" height=\"101\" width=\"101\">\n",
    "        <span style=\"font-weight: bold\">ETCBC-remix: Eliran Wong</span>\n",
    "\n",
    "    </ul>\n",
    "</div>"
   ]
  },
  {
   "cell_type": "markdown",
   "metadata": {
    "slideshow": {
     "slide_type": "fragment"
    }
   },
   "source": [
    "<div class=\"slide_with_text\">\n",
    " \n",
    "     <!--unordered List-->\n",
    "    <ul class=\"custom\" style=\"text-align: left\">\n",
    "    \n",
    "        <span style=\"font-size: 200%\">•</span>\n",
    "        <img class=\"custom_left\" src=\"images/bible_ol.png\" height=\"101\" width=\"101\">\n",
    "        <span style=\"font-weight: bold\">Bible Online Learner: Nicolai Winther-Nielsen</span>\n",
    "\n",
    "    </ul>\n",
    "</div>"
   ]
  },
  {
   "cell_type": "markdown",
   "metadata": {
    "slideshow": {
     "slide_type": "subslide"
    }
   },
   "source": [
    "<div class=\"slide_with_text\">\n",
    "\n",
    "<h1 class=\"custom\">3.&nbsp;&nbsp;&nbsp;&nbsp;The Future of Text-Fabric</h1>\n",
    "\n",
    "    <br>\n",
    "\n",
    "    <!--unordered List-->\n",
    "    <ul class=\"custom\" style=\"text-align: left\">\n",
    "    \n",
    "        <!-- \"li\" == list item -->\n",
    "        \n",
    "        <li><strong>future research</strong></li>\n",
    "\n",
    "            <ul class=\"custom\">\n",
    "                    <li>&nbsp;&nbsp;&nbsp;&nbsp;using structure to interpret semantics</li>\n",
    "                    <li>&nbsp;&nbsp;&nbsp;&nbsp;artificial intelligence</li>\n",
    "                    <li>&nbsp;&nbsp;&nbsp;&nbsp;data analytics (e.g. Markov chains)</li>\n",
    "            </ul>\n",
    "    </ul>\n",
    "</div>"
   ]
  },
  {
   "cell_type": "markdown",
   "metadata": {
    "slideshow": {
     "slide_type": "notes"
    }
   },
   "source": [
    "It is important to the ETCBC that the community of TF users grows beyond those who are affiliated to the ETCBC. We show that TF provides a platform for researchers to produce the fruits of their work as data. It is our hope that the TF data becomes diverse, contributed to by many, and evolves over time through user-created modules. "
   ]
  },
  {
   "cell_type": "markdown",
   "metadata": {
    "slideshow": {
     "slide_type": "subslide"
    }
   },
   "source": [
    "<div class=\"slide_with_text\">\n",
    "\n",
    "<h1 class=\"custom\">&nbsp;&nbsp;&nbsp;&nbsp;The future of Text-Fabric</h1>\n",
    "\n",
    "    <br>\n",
    "\n",
    "    <!--unordered List-->\n",
    "    <ul class=\"custom\" style=\"text-align: left\">\n",
    "    \n",
    "        <!-- \"li\" == list item -->\n",
    "        \n",
    "        <li>&nbsp;&nbsp;&nbsp;&nbsp;You?</li>\n",
    "    </ul>\n",
    "</div>"
   ]
  },
  {
   "cell_type": "markdown",
   "metadata": {
    "slideshow": {
     "slide_type": "slide"
    }
   },
   "source": [
    "<div class=\"slide_with_text\">\n",
    "\n",
    "<h1 class=\"custom\">4.&nbsp;&nbsp;&nbsp;&nbsp;Questions and Discussion</h1>\n",
    "\n",
    "    <br>\n",
    "\n",
    "</div>"
   ]
  }
 ],
 "metadata": {
  "celltoolbar": "Slideshow",
  "kernelspec": {
   "display_name": "Python 3",
   "language": "python",
   "name": "python3"
  },
  "language_info": {
   "codemirror_mode": {
    "name": "ipython",
    "version": 3
   },
   "file_extension": ".py",
   "mimetype": "text/x-python",
   "name": "python",
   "nbconvert_exporter": "python",
   "pygments_lexer": "ipython3",
   "version": "3.6.0"
  }
 },
 "nbformat": 4,
 "nbformat_minor": 2
}
