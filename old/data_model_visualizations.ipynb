{
 "cells": [
  {
   "cell_type": "markdown",
   "metadata": {
    "slideshow": {
     "slide_type": "slide"
    }
   },
   "source": [
    "# HTML Examples\n",
    "\n",
    "These are some experiments/demonstrations of the kind of output we can create to our presentation notebook. Today I will use these features to create attractive demonstrations of the data model."
   ]
  },
  {
   "cell_type": "code",
   "execution_count": 16,
   "metadata": {
    "slideshow": {
     "slide_type": "slide"
    }
   },
   "outputs": [
    {
     "name": "stdout",
     "output_type": "stream",
     "text": [
      "ready!\n"
     ]
    }
   ],
   "source": [
    "from IPython.display import HTML, display, clear_output # display functions\n",
    "import itertools, copy\n",
    "import networkx as nx\n",
    "import matplotlib.pyplot as plt\n",
    "%matplotlib inline\n",
    "import time # to time cell output\n",
    "\n",
    "from html_code.present import present\n",
    "\n",
    "from tf.fabric import Fabric\n",
    "TF = Fabric(modules='hebrew/etcbc4c', silent=True)\n",
    "api = TF.load('''\n",
    "                book chapter verse\n",
    "                mother g_cons g_cons_utf8\n",
    "              ''', silent=True)\n",
    "api.makeAvailableIn(globals())\n",
    "\n",
    "print('ready!')"
   ]
  },
  {
   "cell_type": "code",
   "execution_count": 203,
   "metadata": {
    "slideshow": {
     "slide_type": "notes"
    }
   },
   "outputs": [
    {
     "data": {
      "text/html": [
       "<!-- Contains the styles used for custom visualizations in the notebook. -->\n",
       "<!-- Special div classes are used for most customizations -->\n",
       "\n",
       "<style>\n",
       "\n",
       "    div.output_text {\n",
       "        font-size: \n",
       "    }\n",
       "\n",
       "    div.present{\n",
       "        direction: rtl;\n",
       "    }\n",
       "\n",
       "    div.hebrew_text {\n",
       "        direction: rtl;\n",
       "        text-align: right;\n",
       "        line-height: 2;\n",
       "    }\n",
       "\n",
       "\n",
       "    div div.slotrange {\n",
       "        font-size: 22px;\n",
       "        margin: 0 auto;\n",
       "\ttext-align: center;\n",
       "\tcolor: grey\n",
       "    }\n",
       "\n",
       "    div div.node_id {\n",
       "        font-size: 22px;\n",
       "        margin: 0 auto;\n",
       "\ttext-align: center;\n",
       "\tcolor: red\n",
       "    }\n",
       "\n",
       "    div.present_animation {\n",
       "        font-size: 30px;\n",
       "        font-family: times new roman;\n",
       "        border: 1px solid #edeeef;\n",
       "    }\n",
       "    \n",
       "    div.present_title {\n",
       "        text-align: center;\n",
       "        font-size: 30px;\n",
       "        font-family: Brill, Baskerville, Georgia;\n",
       "        left: 100px\n",
       "    }\n",
       "    \n",
       "    div.phrase, div.clause, div.sentence {\n",
       "        margin: 1px;\n",
       "        padding: 10px;\n",
       "        border: 1px solid black;\n",
       "\tbackground-color: #eff0f2;\n",
       "        position: relative;\n",
       "        display: inline-block\n",
       "    }\n",
       "\n",
       "</style>\n"
      ],
      "text/plain": [
       "<IPython.core.display.HTML object>"
      ]
     },
     "metadata": {},
     "output_type": "display_data"
    }
   ],
   "source": [
    "# get HTML formatting for custom presentation elements\n",
    "custom_styles = str(open('html_code/style.html', 'r').read())\n",
    "\n",
    "display(HTML(custom_styles))"
   ]
  },
  {
   "cell_type": "code",
   "execution_count": 129,
   "metadata": {
    "scrolled": true
   },
   "outputs": [
    {
     "data": {
      "text/html": [
       "\n",
       "    <div class=\"present\" style=\"font-size: 40px; font-family: SBL BibLit\">\n",
       "       וְהָאָ֗רֶץ הָיְתָ֥ה תֹ֨הוּ֙ וָבֹ֔הוּ וְחֹ֖שֶׁךְ עַל־פְּנֵ֣י תְהֹ֑ום וְר֣וּחַ אֱלֹהִ֔ים מְרַחֶ֖פֶת עַל־פְּנֵ֥י הַמָּֽיִם׃ \n",
       "    </div>\n",
       "    "
      ],
      "text/plain": [
       "<IPython.core.display.HTML object>"
      ]
     },
     "metadata": {},
     "output_type": "display_data"
    }
   ],
   "source": [
    "gen1 = T.nodeFromSection(('Genesis', 1, 2))\n",
    "\n",
    "text = T.text(L.d(gen1, otype='word'))\n",
    "\n",
    "present(text, size=40, font='SBL BibLit')"
   ]
  },
  {
   "cell_type": "markdown",
   "metadata": {},
   "source": [
    "<div=\">\n",
    "\n",
    "<div>"
   ]
  },
  {
   "cell_type": "markdown",
   "metadata": {
    "slideshow": {
     "slide_type": "notes"
    }
   },
   "source": [
    "## Sliding Examples\n",
    "\n",
    "Here's a set of examples that \"slide\" in an out of the display by using some HTML code, a loop, and the ipynb display functions, esp. clear_display()"
   ]
  },
  {
   "cell_type": "code",
   "execution_count": 221,
   "metadata": {
    "collapsed": true,
    "slideshow": {
     "slide_type": "notes"
    }
   },
   "outputs": [],
   "source": [
    "def animate_text(words, slots, template, progress_dict, show_dict, sleep=.1):\n",
    "    \n",
    "    '''\n",
    "    Modify a string of format statements in a desired sequence.\n",
    "    \n",
    "    Words is a dictionary with a key: word_consonants + word_node\n",
    "        this key is used rather than just the word_node \n",
    "        since keywords for string formats cannot be integers.\n",
    "        There is one value: 'node', with the bare TF node number (as integer).\n",
    "        \n",
    "    Slots is a string with format values that correspond \n",
    "        to the keys in progress_dict and show_dict, i.e., the word id.\n",
    "        \n",
    "    Template is an html string which receives the formatted text.\n",
    "        \n",
    "    Requires a progress_dict, i.e., with word ID keys and values wherein\n",
    "        the values are slots to be progressively filled in with values from show_dict.\n",
    "        \n",
    "    Requires a show_dict, i.e. with word ID keys and values wherein\n",
    "        the values are the text to be displayed.\n",
    "    '''\n",
    "    \n",
    "    # run the loop and display slots\n",
    "    for word_id, word_node in words.items():\n",
    "        \n",
    "        # set the present object's value to be displayed\n",
    "        progress_dict[word_id] =  show_dict[word_id] \n",
    "        \n",
    "        # get all the display text, including the new added value\n",
    "        run_text = slots.format(**progress_dict)\n",
    "\n",
    "        # display it\n",
    "        display(HTML(template.format(txt=run_text)))\n",
    "        \n",
    "        time.sleep(sleep)\n",
    "        \n",
    "        clear_output(wait=True)\n",
    "        \n",
    "\n",
    "def display_slots(passage):\n",
    "    \n",
    "    '''\n",
    "    Blah blah blah\n",
    "    '''\n",
    "    \n",
    "    # the html code\n",
    "    # this can be stored in a file and opened when needed so its out of sight\n",
    "    template =\\\n",
    "    '''\n",
    "    <html>\n",
    "\n",
    "    <body>\n",
    "\n",
    "        <div class=\"present_animation\">\n",
    "        \n",
    "            <div class=\"present_title\">\n",
    "                <span>Text-Fabric Slots</span>   \n",
    "                <hr style=\"border-top: 1px solid grey; width: 25%\">\n",
    "            </div>\n",
    "        \n",
    "            <div class=\"hebrew_text\">\n",
    "                {txt}\n",
    "            </div>\n",
    "            \n",
    "        </div>\n",
    "\n",
    "    </body>\n",
    "\n",
    "    </html>\n",
    "    '''\n",
    "    \n",
    "    \n",
    "    # get word nodes from the provided passage\n",
    "    word_nodes = L.d(T.nodeFromSection(passage), otype='word')\n",
    "    \n",
    "    \n",
    "    # build word id\n",
    "    \n",
    "    # get lexeme plain text from word nodes \n",
    "    word_lexs = [F.g_cons.v(w) for w in word_nodes]\n",
    "    \n",
    "    # format into a word ids dictionary\n",
    "    words = dict((lex+str(word), word) for lex, word in zip(word_lexs, word_nodes)\n",
    "                )\n",
    "        \n",
    "    # formatted string with slots\n",
    "    word_slots = ['{' + word + '}' for word in words]\n",
    "    slots = ''.join(word_slots)\n",
    "    \n",
    "    # track progress here\n",
    "    progress = dict((word, '') for word in words)\n",
    "    \n",
    "    \n",
    "    # first animation: slots and node numbers\n",
    "    \n",
    "    # span style for font/colorizing the line\n",
    "    nodes_style = '<span style=\"font-size: 28px;\">{}</span>\\\n",
    "                    <span style=\"color:blue\">|</span>'\n",
    "    # show slot node numbers\n",
    "    show_nodes = dict((word, nodes_style.format(words[word])) for word in words\n",
    "                     )\n",
    "    # run animation\n",
    "    animate_text(words, slots, template, progress, show_nodes)\n",
    "    \n",
    "    # wait for input\n",
    "    input()\n",
    "    \n",
    "    \n",
    "    # second animation: slots and hebrew text\n",
    "    \n",
    "    heb_style = '{}<span style=\"color:blue\">&nbsp; | &nbsp;</span>'\n",
    "    heb_words = [F.g_cons_utf8.v(word_n) for word, word_n in words.items()] # get utf8 text\n",
    "    show_hebrew = dict((word_id, heb_style.format(word)) for word_id, word in zip(words, heb_words)\n",
    "                     )\n",
    "    # run animation\n",
    "    animate_text(words, slots, template, progress, show_hebrew)\n",
    "    \n",
    "    # progressively build up the data by returning the progress dict\n",
    "    return progress, words"
   ]
  },
  {
   "cell_type": "code",
   "execution_count": 222,
   "metadata": {
    "scrolled": true,
    "slideshow": {
     "slide_type": "slide"
    }
   },
   "outputs": [
    {
     "data": {
      "text/html": [
       "\n",
       "    <html>\n",
       "\n",
       "    <body>\n",
       "\n",
       "        <div class=\"present_animation\">\n",
       "        \n",
       "            <div class=\"present_title\">\n",
       "                <span>Text-Fabric Slots</span>   \n",
       "                <hr style=\"border-top: 1px solid grey; width: 25%\">\n",
       "            </div>\n",
       "        \n",
       "            <div class=\"hebrew_text\">\n",
       "                אשׁרי<span style=\"color:blue\">&nbsp; | &nbsp;</span>ה<span style=\"color:blue\">&nbsp; | &nbsp;</span>אישׁ<span style=\"color:blue\">&nbsp; | &nbsp;</span>אשׁר<span style=\"color:blue\">&nbsp; | &nbsp;</span>לא<span style=\"color:blue\">&nbsp; | &nbsp;</span>הלך<span style=\"color:blue\">&nbsp; | &nbsp;</span>ב<span style=\"color:blue\">&nbsp; | &nbsp;</span>עצת<span style=\"color:blue\">&nbsp; | &nbsp;</span>רשׁעים<span style=\"color:blue\">&nbsp; | &nbsp;</span>ו<span style=\"color:blue\">&nbsp; | &nbsp;</span>ב<span style=\"color:blue\">&nbsp; | &nbsp;</span>דרך<span style=\"color:blue\">&nbsp; | &nbsp;</span>חטאים<span style=\"color:blue\">&nbsp; | &nbsp;</span>לא<span style=\"color:blue\">&nbsp; | &nbsp;</span>עמד<span style=\"color:blue\">&nbsp; | &nbsp;</span>ו<span style=\"color:blue\">&nbsp; | &nbsp;</span>ב<span style=\"color:blue\">&nbsp; | &nbsp;</span>מושׁב<span style=\"color:blue\">&nbsp; | &nbsp;</span>לצים<span style=\"color:blue\">&nbsp; | &nbsp;</span>לא<span style=\"color:blue\">&nbsp; | &nbsp;</span>ישׁב<span style=\"color:blue\">&nbsp; | &nbsp;</span>\n",
       "            </div>\n",
       "            \n",
       "        </div>\n",
       "\n",
       "    </body>\n",
       "\n",
       "    </html>\n",
       "    "
      ],
      "text/plain": [
       "<IPython.core.display.HTML object>"
      ]
     },
     "metadata": {},
     "output_type": "display_data"
    }
   ],
   "source": [
    "slots = display_slots(('Psalms',1,1))"
   ]
  },
  {
   "cell_type": "code",
   "execution_count": 227,
   "metadata": {
    "collapsed": true,
    "slideshow": {
     "slide_type": "notes"
    }
   },
   "outputs": [],
   "source": [
    "def obj_boundaries(word_node, obj):\n",
    "    \n",
    "    '''\n",
    "    Check to see if a given word node is at the beginning\n",
    "    or end of a given object.\n",
    "    Return 1 for beginning and 2 for end.\n",
    "    '''\n",
    "    \n",
    "    obj_word_nodes = L.d(obj, otype='word')\n",
    "\n",
    "    if obj_word_nodes[0] == obj_word_nodes[-1] == word_node:\n",
    "        return 1\n",
    "    \n",
    "    elif obj_word_nodes[0] == word_node:\n",
    "        return 2\n",
    "    \n",
    "    elif obj_word_nodes[-1] == word_node:\n",
    "        return 3\n",
    "    \n",
    "    else:\n",
    "        return None\n",
    "\n",
    "def display_objects(passage, obj_type, words, progress_dict):\n",
    "    \n",
    "    # the html code\n",
    "    # this can be stored in a file and opened when needed so its out of sight\n",
    "    template =\\\n",
    "    '''\n",
    "    <html>\n",
    "\n",
    "    <body>\n",
    "\n",
    "        <div class=\"present_animation\">\n",
    "        \n",
    "            <div class=\"present_title\">\n",
    "                <span>Slots into {obj_type}</span>   \n",
    "                <hr style=\"border-top: 1px solid grey; width: 25%\">\n",
    "            </div>\n",
    "        \n",
    "            <div class=\"hebrew_text\">\n",
    "                {txt}\n",
    "            </div>\n",
    "            \n",
    "        </div>\n",
    "\n",
    "    </body>\n",
    "\n",
    "    </html>\n",
    "    '''.format(obj_type=obj_type, txt='{txt}')\n",
    "    \n",
    "    # get word nodes from the provided passage\n",
    "    word_nodes = L.d(T.nodeFromSection(passage), otype='word')\n",
    "    \n",
    "    # get object types\n",
    "    objects = L.d(T.nodeFromSection(passage), otype=obj_type)\n",
    "    \n",
    "    # formatted string with slots\n",
    "    word_slots = ['{' + word + '}' for word in progress_dict]\n",
    "    slots = ''.join(word_slots)\n",
    "    \n",
    "    \n",
    "    # animate objects\n",
    "    \n",
    "    div_start = '<div class=\"{}\">'.format(obj_type)\n",
    "    \n",
    "    div_end = '</div>'\n",
    "    \n",
    "    # mapping from a wordnode to its ID \n",
    "    node_to_id = dict((node, ID) for ID, node in words.items())\n",
    "    \n",
    "    # display on object-by-object basis\n",
    "    for obj in objects:\n",
    "        \n",
    "        obj_words = L.d(obj, otype='word')\n",
    "            \n",
    "        # change words at the boundaries of the object\n",
    "        for word in obj_words:\n",
    "                        \n",
    "            is_bound = obj_boundaries(word, obj)\n",
    "            \n",
    "            # do not modify words without boundaries\n",
    "            if not is_bound:\n",
    "                continue\n",
    "                            \n",
    "            word_id = node_to_id[word]\n",
    "            \n",
    "            # prepare div tag \n",
    "            if is_bound in {1,2}:\n",
    "                \n",
    "                slot_range = '<div class=\"slotrange\">{}-{}</div>'.format(obj_words[0], obj_words[-1])\\\n",
    "                                if len(obj_words) > 1\\\n",
    "                                else '<div class=\"slotrange\">{}</div>'.format(obj_words[0])\n",
    "                        \n",
    "                div_start_ranges = div_start + slot_range\n",
    "                \n",
    "                # prepare node tag, only applied at end of obj, i.e. is_bound == 1 or 3\n",
    "                node = '<div class=\"node_id\">{}</div>'.format(obj)\n",
    "            \n",
    "            # add div tag to beginning or end as required\n",
    "            if is_bound == 1:\n",
    "                progress_dict[word_id] = div_start_ranges + progress_dict[word_id] + node + div_end\n",
    "                \n",
    "            elif is_bound == 2:\n",
    "                progress_dict[word_id] = div_start_ranges + progress_dict[word_id]\n",
    "                \n",
    "            else:\n",
    "                progress_dict[word_id] = progress_dict[word_id] + node + div_end\n",
    "                \n",
    "        # animate\n",
    "        animate_text(words, slots, template, progress_dict, progress_dict, sleep=0)\n",
    "        \n",
    "    return slots, progress_dict"
   ]
  },
  {
   "cell_type": "code",
   "execution_count": 228,
   "metadata": {
    "scrolled": false,
    "slideshow": {
     "slide_type": "slide"
    }
   },
   "outputs": [
    {
     "data": {
      "text/html": [
       "\n",
       "    <html>\n",
       "\n",
       "    <body>\n",
       "\n",
       "        <div class=\"present_animation\">\n",
       "        \n",
       "            <div class=\"present_title\">\n",
       "                <span>Slots into phrase</span>   \n",
       "                <hr style=\"border-top: 1px solid grey; width: 25%\">\n",
       "            </div>\n",
       "        \n",
       "            <div class=\"hebrew_text\">\n",
       "                <div class=\"phrase\"><div class=\"slotrange\">310649-310651</div>אשׁרי<span style=\"color:blue\">&nbsp; | &nbsp;</span>ה<span style=\"color:blue\">&nbsp; | &nbsp;</span>אישׁ<span style=\"color:blue\">&nbsp; | &nbsp;</span><div class=\"node_id\">788916</div></div><div class=\"phrase\"><div class=\"slotrange\">310652</div>אשׁר<span style=\"color:blue\">&nbsp; | &nbsp;</span><div class=\"node_id\">788917</div></div><div class=\"phrase\"><div class=\"slotrange\">310653</div>לא<span style=\"color:blue\">&nbsp; | &nbsp;</span><div class=\"node_id\">788918</div></div><div class=\"phrase\"><div class=\"slotrange\">310654</div>הלך<span style=\"color:blue\">&nbsp; | &nbsp;</span><div class=\"node_id\">788919</div></div><div class=\"phrase\"><div class=\"slotrange\">310655-310657</div>ב<span style=\"color:blue\">&nbsp; | &nbsp;</span>עצת<span style=\"color:blue\">&nbsp; | &nbsp;</span>רשׁעים<span style=\"color:blue\">&nbsp; | &nbsp;</span><div class=\"node_id\">788920</div></div><div class=\"phrase\"><div class=\"slotrange\">310658</div>ו<span style=\"color:blue\">&nbsp; | &nbsp;</span><div class=\"node_id\">788921</div></div><div class=\"phrase\"><div class=\"slotrange\">310659-310661</div>ב<span style=\"color:blue\">&nbsp; | &nbsp;</span>דרך<span style=\"color:blue\">&nbsp; | &nbsp;</span>חטאים<span style=\"color:blue\">&nbsp; | &nbsp;</span><div class=\"node_id\">788922</div></div><div class=\"phrase\"><div class=\"slotrange\">310662</div>לא<span style=\"color:blue\">&nbsp; | &nbsp;</span><div class=\"node_id\">788923</div></div><div class=\"phrase\"><div class=\"slotrange\">310663</div>עמד<span style=\"color:blue\">&nbsp; | &nbsp;</span><div class=\"node_id\">788924</div></div><div class=\"phrase\"><div class=\"slotrange\">310664</div>ו<span style=\"color:blue\">&nbsp; | &nbsp;</span><div class=\"node_id\">788925</div></div><div class=\"phrase\"><div class=\"slotrange\">310665-310667</div>ב<span style=\"color:blue\">&nbsp; | &nbsp;</span>מושׁב<span style=\"color:blue\">&nbsp; | &nbsp;</span>לצים<span style=\"color:blue\">&nbsp; | &nbsp;</span><div class=\"node_id\">788926</div></div><div class=\"phrase\"><div class=\"slotrange\">310668</div>לא<span style=\"color:blue\">&nbsp; | &nbsp;</span><div class=\"node_id\">788927</div></div><div class=\"phrase\"><div class=\"slotrange\">310669</div>ישׁב<span style=\"color:blue\">&nbsp; | &nbsp;</span><div class=\"node_id\">788928</div></div>\n",
       "            </div>\n",
       "            \n",
       "        </div>\n",
       "\n",
       "    </body>\n",
       "\n",
       "    </html>\n",
       "    "
      ],
      "text/plain": [
       "<IPython.core.display.HTML object>"
      ]
     },
     "metadata": {},
     "output_type": "display_data"
    }
   ],
   "source": [
    "old_progress = copy.deepcopy(slots[0])\n",
    "old_words = copy.deepcopy(slots[1])\n",
    "\n",
    "test = display_objects(('Psalms', 1, 1), 'phrase', old_words, old_progress)"
   ]
  },
  {
   "cell_type": "code",
   "execution_count": 206,
   "metadata": {
    "slideshow": {
     "slide_type": "slide"
    }
   },
   "outputs": [
    {
     "data": {
      "text/html": [
       "\n",
       "    <html>\n",
       "\n",
       "    <body>\n",
       "\n",
       "        <div class=\"present_animation\">\n",
       "        \n",
       "            <div class=\"present_title\">\n",
       "                <span>Slots into clause</span>   \n",
       "                <hr style=\"border-top: 1px solid grey; width: 25%\">\n",
       "            </div>\n",
       "        \n",
       "            <div class=\"hebrew_text\">\n",
       "                <div class=\"clause\"><div class=\"slotrange\">310649-310651</div>אשׁרי<span style=\"color:blue\">&nbsp; | &nbsp;</span>ה<span style=\"color:blue\">&nbsp; | &nbsp;</span>אישׁ<span style=\"color:blue\">&nbsp; | &nbsp;</span><div class=\"node_id\">489118</div></div><div class=\"clause\"><div class=\"slotrange\">310652-310657</div>אשׁר<span style=\"color:blue\">&nbsp; | &nbsp;</span>לא<span style=\"color:blue\">&nbsp; | &nbsp;</span>הלך<span style=\"color:blue\">&nbsp; | &nbsp;</span>ב<span style=\"color:blue\">&nbsp; | &nbsp;</span>עצת<span style=\"color:blue\">&nbsp; | &nbsp;</span>רשׁעים<span style=\"color:blue\">&nbsp; | &nbsp;</span><div class=\"node_id\">489119</div></div><div class=\"clause\"><div class=\"slotrange\">310658-310663</div>ו<span style=\"color:blue\">&nbsp; | &nbsp;</span>ב<span style=\"color:blue\">&nbsp; | &nbsp;</span>דרך<span style=\"color:blue\">&nbsp; | &nbsp;</span>חטאים<span style=\"color:blue\">&nbsp; | &nbsp;</span>לא<span style=\"color:blue\">&nbsp; | &nbsp;</span>עמד<span style=\"color:blue\">&nbsp; | &nbsp;</span><div class=\"node_id\">489120</div></div><div class=\"clause\"><div class=\"slotrange\">310664-310669</div>ו<span style=\"color:blue\">&nbsp; | &nbsp;</span>ב<span style=\"color:blue\">&nbsp; | &nbsp;</span>מושׁב<span style=\"color:blue\">&nbsp; | &nbsp;</span>לצים<span style=\"color:blue\">&nbsp; | &nbsp;</span>לא<span style=\"color:blue\">&nbsp; | &nbsp;</span>ישׁב<span style=\"color:blue\">&nbsp; | &nbsp;</span><div class=\"node_id\">489121</div></div>\n",
       "            </div>\n",
       "            \n",
       "        </div>\n",
       "\n",
       "    </body>\n",
       "\n",
       "    </html>\n",
       "    "
      ],
      "text/plain": [
       "<IPython.core.display.HTML object>"
      ]
     },
     "metadata": {},
     "output_type": "display_data"
    }
   ],
   "source": [
    "old_progress = copy.deepcopy(slots[0])\n",
    "old_words = copy.deepcopy(slots[1])\n",
    "\n",
    "test = display_objects(('Psalms', 1, 1), 'clause', old_words, old_progress)"
   ]
  },
  {
   "cell_type": "code",
   "execution_count": 207,
   "metadata": {
    "scrolled": true,
    "slideshow": {
     "slide_type": "slide"
    }
   },
   "outputs": [
    {
     "data": {
      "text/html": [
       "\n",
       "    <html>\n",
       "\n",
       "    <body>\n",
       "\n",
       "        <div class=\"present_animation\">\n",
       "        \n",
       "            <div class=\"present_title\">\n",
       "                <span>Slots into sentence</span>   \n",
       "                <hr style=\"border-top: 1px solid grey; width: 25%\">\n",
       "            </div>\n",
       "        \n",
       "            <div class=\"hebrew_text\">\n",
       "                <div class=\"sentence\"><div class=\"slotrange\">310649-310669</div>אשׁרי<span style=\"color:blue\">&nbsp; | &nbsp;</span>ה<span style=\"color:blue\">&nbsp; | &nbsp;</span>אישׁ<span style=\"color:blue\">&nbsp; | &nbsp;</span>אשׁר<span style=\"color:blue\">&nbsp; | &nbsp;</span>לא<span style=\"color:blue\">&nbsp; | &nbsp;</span>הלך<span style=\"color:blue\">&nbsp; | &nbsp;</span>ב<span style=\"color:blue\">&nbsp; | &nbsp;</span>עצת<span style=\"color:blue\">&nbsp; | &nbsp;</span>רשׁעים<span style=\"color:blue\">&nbsp; | &nbsp;</span>ו<span style=\"color:blue\">&nbsp; | &nbsp;</span>ב<span style=\"color:blue\">&nbsp; | &nbsp;</span>דרך<span style=\"color:blue\">&nbsp; | &nbsp;</span>חטאים<span style=\"color:blue\">&nbsp; | &nbsp;</span>לא<span style=\"color:blue\">&nbsp; | &nbsp;</span>עמד<span style=\"color:blue\">&nbsp; | &nbsp;</span>ו<span style=\"color:blue\">&nbsp; | &nbsp;</span>ב<span style=\"color:blue\">&nbsp; | &nbsp;</span>מושׁב<span style=\"color:blue\">&nbsp; | &nbsp;</span>לצים<span style=\"color:blue\">&nbsp; | &nbsp;</span>לא<span style=\"color:blue\">&nbsp; | &nbsp;</span>ישׁב<span style=\"color:blue\">&nbsp; | &nbsp;</span><div class=\"node_id\">1171475</div></div>\n",
       "            </div>\n",
       "            \n",
       "        </div>\n",
       "\n",
       "    </body>\n",
       "\n",
       "    </html>\n",
       "    "
      ],
      "text/plain": [
       "<IPython.core.display.HTML object>"
      ]
     },
     "metadata": {},
     "output_type": "display_data"
    }
   ],
   "source": [
    "old_progress = copy.deepcopy(slots[0])\n",
    "old_words = copy.deepcopy(slots[1])\n",
    "\n",
    "test = display_objects(('Psalms', 1, 1), 'sentence', old_words, old_progress)"
   ]
  }
 ],
 "metadata": {
  "celltoolbar": "Slideshow",
  "kernelspec": {
   "display_name": "Python 3",
   "language": "python",
   "name": "python3"
  },
  "language_info": {
   "codemirror_mode": {
    "name": "ipython",
    "version": 3
   },
   "file_extension": ".py",
   "mimetype": "text/x-python",
   "name": "python",
   "nbconvert_exporter": "python",
   "pygments_lexer": "ipython3",
   "version": "3.6.0"
  }
 },
 "nbformat": 4,
 "nbformat_minor": 2
}
