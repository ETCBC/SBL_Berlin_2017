{
 "cells": [
  {
   "cell_type": "markdown",
   "metadata": {},
   "source": [
    "# HTML Examples\n",
    "\n",
    "These are some experiments/demonstrations of the kind of output we can create to our presentation notebook. Today I will use these features to create attractive demonstrations of the data model."
   ]
  },
  {
   "cell_type": "code",
   "execution_count": 1,
   "metadata": {
    "collapsed": true
   },
   "outputs": [],
   "source": [
    "from IPython.display import HTML, display, clear_output # display functions\n",
    "import time # to time cell output"
   ]
  },
  {
   "cell_type": "markdown",
   "metadata": {},
   "source": [
    "## Styling a Notebook\n",
    "\n",
    "A notebook is just python code running in an HTML environment. We can manipulate that environment directly with HTML output.\n",
    "\n",
    "### The cell below will change the notebook font and turn it pink for 3 seconds!"
   ]
  },
  {
   "cell_type": "code",
   "execution_count": 4,
   "metadata": {
    "collapsed": true
   },
   "outputs": [],
   "source": [
    "# HTML code to style notebook\n",
    "style =\\\n",
    "'''\n",
    "<style>\n",
    "\n",
    "    body {\n",
    "        font-family: Impact\n",
    "    }\n",
    "    \n",
    "    div {\n",
    "        background-color: pink\n",
    "    }\n",
    "</style>\n",
    "'''\n",
    "\n",
    "# change the notebook to pink\n",
    "display(HTML(style))\n",
    "\n",
    "# wait 5 seconds\n",
    "time.sleep(3)\n",
    "\n",
    "# return notebook to normal\n",
    "clear_output()"
   ]
  },
  {
   "cell_type": "markdown",
   "metadata": {},
   "source": [
    "Tweaks like this can be made for specific aspects of the notebook.\n",
    "\n",
    "Below I apply a specific style for the next demonstration. The style will not affect the notebook, but only the HTML code in the next cell. This is because I have added a \"class\" value to the \"div\" object below, called \"test\". I use that class in the cell bellow (under \"Sliding Examples\")"
   ]
  },
  {
   "cell_type": "code",
   "execution_count": 5,
   "metadata": {},
   "outputs": [
    {
     "data": {
      "text/html": [
       "\n",
       "<style>\n",
       "    div.test {\n",
       "        color: blue;\n",
       "        font-size: 100px\n",
       "    } \n",
       "</style>\n"
      ],
      "text/plain": [
       "<IPython.core.display.HTML object>"
      ]
     },
     "metadata": {},
     "output_type": "display_data"
    }
   ],
   "source": [
    "style =\\\n",
    "'''\n",
    "<style>\n",
    "    div.test {\n",
    "        color: blue;\n",
    "        font-size: 100px\n",
    "    } \n",
    "</style>\n",
    "'''\n",
    "display(HTML(style))"
   ]
  },
  {
   "cell_type": "markdown",
   "metadata": {},
   "source": [
    "## Sliding Examples\n",
    "\n",
    "Here's a set of examples that \"slide\" in an out of the display by using some HTML code, a loop, and the ipynb display functions, esp. clear_display()"
   ]
  },
  {
   "cell_type": "code",
   "execution_count": 8,
   "metadata": {},
   "outputs": [
    {
     "data": {
      "text/html": [
       "\n",
       "<html>\n",
       "\n",
       "<body>\n",
       "\n",
       "    <div class=\"test\" style=\"float:\">\n",
       "        <!-- with non-breaking spaces to give room for the large text -->\n",
       "        <br>\n",
       "        <br>\n",
       "            Hello Eep a.k.a. EPIC\n",
       "        <br>\n",
       "        <br>\n",
       "        <br>\n",
       "    </div>\n",
       "    \n",
       "</body>\n",
       "\n",
       "</html>\n"
      ],
      "text/plain": [
       "<IPython.core.display.HTML object>"
      ]
     },
     "metadata": {},
     "output_type": "display_data"
    }
   ],
   "source": [
    "# a set of names to display to screen\n",
    "names = ('Christiaan', 'Cody', 'Eep a.k.a. EPIC')\n",
    "\n",
    "# the html code\n",
    "# this can be stored in a file and opened when needed so its out of sight\n",
    "test_html =\\\n",
    "'''\n",
    "<html>\n",
    "\n",
    "<body>\n",
    "\n",
    "    <div class=\"test\" style=\"float:\">\n",
    "        <!-- with non-breaking spaces to give room for the large text -->\n",
    "        <br>\n",
    "        <br>\n",
    "            Hello {name}\n",
    "        <br>\n",
    "        <br>\n",
    "        <br>\n",
    "    </div>\n",
    "    \n",
    "</body>\n",
    "\n",
    "</html>\n",
    "'''\n",
    "\n",
    "# run the loop and display the names\n",
    "for name in names:\n",
    "    \n",
    "    display(HTML(test_html.format(name=name)))\n",
    "    \n",
    "    time.sleep(1)\n",
    "    \n",
    "    clear_output(wait=True)"
   ]
  },
  {
   "cell_type": "code",
   "execution_count": null,
   "metadata": {
    "collapsed": true
   },
   "outputs": [],
   "source": []
  }
 ],
 "metadata": {
  "kernelspec": {
   "display_name": "Python 3",
   "language": "python",
   "name": "python3"
  },
  "language_info": {
   "codemirror_mode": {
    "name": "ipython",
    "version": 3
   },
   "file_extension": ".py",
   "mimetype": "text/x-python",
   "name": "python",
   "nbconvert_exporter": "python",
   "pygments_lexer": "ipython3",
   "version": "3.6.0"
  }
 },
 "nbformat": 4,
 "nbformat_minor": 2
}
